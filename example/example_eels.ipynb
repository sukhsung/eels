{
 "cells": [
  {
   "cell_type": "code",
   "execution_count": null,
   "metadata": {},
   "outputs": [],
   "source": [
    "import hyperspy.api as hs\n",
    "from eels import psi\n",
    "import numpy as np\n",
    "\n",
    "%matplotlib widget"
   ]
  },
  {
   "cell_type": "code",
   "execution_count": null,
   "metadata": {},
   "outputs": [],
   "source": [
    "## File and microscope parameters\n",
    "path = \"./\"\n",
    "SIdm = \"test_SI.dm4\""
   ]
  },
  {
   "cell_type": "code",
   "execution_count": null,
   "metadata": {},
   "outputs": [],
   "source": [
    "SI_file=hs.load(path+SIdm)\n",
    "print(SI_file)\n",
    "hs_survey = SI_file[0]\n",
    "hs_ADF = SI_file[1]\n",
    "hs_LL = SI_file[2]\n",
    "hs_HL = SI_file[3]"
   ]
  },
  {
   "cell_type": "code",
   "execution_count": null,
   "metadata": {},
   "outputs": [],
   "source": [
    "def get_data(rawSI):\n",
    "    params=rawSI.axes_manager\n",
    "    print(params)\n",
    "    ch1=np.round(rawSI.axes_manager[2j].get_axis_dictionary()['offset'],4)\n",
    "    disp=np.round(rawSI.axes_manager[2j].get_axis_dictionary()['scale'],4)\n",
    "    rawSI.z=int(rawSI.axes_manager[2j].get_axis_dictionary()['size'])\n",
    "    energy= np.round(np.arange(ch1,ch1+rawSI.z*disp,disp),4)\n",
    "    pxscale = rawSI.axes_manager[0].get_axis_dictionary()['scale']\n",
    "    if len(energy)!= rawSI.z:\n",
    "        energy = energy[:-1]\n",
    "    return(energy, rawSI.data, pxscale, disp, params)\n"
   ]
  },
  {
   "cell_type": "code",
   "execution_count": null,
   "metadata": {},
   "outputs": [],
   "source": [
    "rawE, rawSI, pxscale, disp, params = get_data( hs_HL )\n",
    "\n",
    "SI = rawSI\n",
    "es = rawE\n",
    "\n",
    "# You can bin data along energy you want better SNR for larger dispersion\n",
    "# es, SI, disp_bin = eels.energy_bin_x2( rawE, rawSI, disp )\n",
    "# es, SI, disp_bin = eels.energy_bin_x2( es, SI, disp_bin )\n"
   ]
  },
  {
   "cell_type": "code",
   "execution_count": null,
   "metadata": {},
   "outputs": [],
   "source": [
    "# import psi\n",
    "p = psi.SI( SI, hs_ADF.data, es )\n",
    "p.bin_energy_x2()\n",
    "p.bin_energy_x2()\n",
    "p.PSI_viewer( bg_type='powerlaw') #bg_type: 'powerlaw, LCPL, none'"
   ]
  },
  {
   "cell_type": "code",
   "execution_count": null,
   "metadata": {},
   "outputs": [],
   "source": [
    "# im_SI_bgsub = p.bgsub_SI( bg_type=\"powerlaw\")\n",
    "im_SI_bgsub_lba = p.bgsub_SI_lba( bg_type=\"powerlaw\")"
   ]
  },
  {
   "cell_type": "code",
   "execution_count": null,
   "metadata": {},
   "outputs": [],
   "source": [
    "p_bsub = psi.SI( im_SI_bgsub_lba, p.ADF, p.es )\n",
    "p_bsub.PSI_integrator( )"
   ]
  }
 ],
 "metadata": {
  "kernelspec": {
   "display_name": "testenv",
   "language": "python",
   "name": "python3"
  },
  "language_info": {
   "codemirror_mode": {
    "name": "ipython",
    "version": 3
   },
   "file_extension": ".py",
   "mimetype": "text/x-python",
   "name": "python",
   "nbconvert_exporter": "python",
   "pygments_lexer": "ipython3",
   "version": "3.10.9"
  }
 },
 "nbformat": 4,
 "nbformat_minor": 2
}
