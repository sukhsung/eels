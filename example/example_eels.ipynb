{
 "cells": [
  {
   "cell_type": "code",
   "execution_count": null,
   "metadata": {},
   "outputs": [],
   "source": [
    "import hyperspy.api as hs\n",
    "from spectrum-image import SI\n",
    "import numpy as np\n",
    "\n",
    "%matplotlib widget"
   ]
  },
  {
   "cell_type": "code",
   "execution_count": null,
   "metadata": {},
   "outputs": [],
   "source": [
    "## File and microscope parameters\n",
    "path = \"./\"\n",
    "SIdm = \"test_SI.dm4\""
   ]
  },
  {
   "cell_type": "code",
   "execution_count": null,
   "metadata": {},
   "outputs": [],
   "source": [
    "SI_file=hs.load(path+SIdm)\n",
    "print(SI_file)\n",
    "hs_survey = SI_file[0]\n",
    "hs_ADF = SI_file[1]\n",
    "hs_LL = SI_file[2]\n",
    "hs_HL = SI_file[3]"
   ]
  },
  {
   "cell_type": "code",
   "execution_count": null,
   "metadata": {},
   "outputs": [],
   "source": [
    "def get_data(rawSI):\n",
    "    params=rawSI.axes_manager\n",
    "    print(params)\n",
    "    ch1=np.round(rawSI.axes_manager[2j].get_axis_dictionary()['offset'],4)\n",
    "    disp=np.round(rawSI.axes_manager[2j].get_axis_dictionary()['scale'],4)\n",
    "    rawSI.z=int(rawSI.axes_manager[2j].get_axis_dictionary()['size'])\n",
    "    energy= np.round(np.arange(ch1,ch1+rawSI.z*disp,disp),4)\n",
    "    pxscale = rawSI.axes_manager[0].get_axis_dictionary()['scale']\n",
    "    if len(energy)!= rawSI.z:\n",
    "        energy = energy[:-1]\n",
    "    return(energy, rawSI.data, pxscale, disp, params)\n"
   ]
  },
  {
   "cell_type": "code",
   "execution_count": null,
   "metadata": {},
   "outputs": [],
   "source": [
    "rawE, rawSI, pxscale, disp, params = get_data( hs_HL )\n",
    "\n",
    "SI = rawSI\n",
    "es = rawE"
   ]
  },
  {
   "cell_type": "code",
   "execution_count": null,
   "metadata": {},
   "outputs": [],
   "source": [
    "# Initialize SI instance for interactivity\n",
    "p= psi.SI( SI, hs_ADF.data, es )\n",
    "\n",
    "# You can bin data along energy you want better SNR for larger dispersion\n",
    "p.bin_energy_x2()\n",
    "p.bin_energy_x2() # Twice for bin x4"
   ]
  },
  {
   "cell_type": "code",
   "execution_count": null,
   "metadata": {},
   "outputs": [],
   "source": [
    "# SI viewer with background subtraction\n",
    "# bg_type: 'powerlaw, LCPL, none'\n",
    "# LCPL doesn't work too well at the moment\n",
    "p.PSI_viewer( bg_type='powerlaw')"
   ]
  },
  {
   "cell_type": "code",
   "execution_count": null,
   "metadata": {},
   "outputs": [],
   "source": [
    "# Run Background subtraction from energy window chosen in GUI\n",
    "# Alternatively you may specify bsub range\n",
    "# e.g im_SI_bgsub_lba = p.bgsub_SI_lba(  e_bsub=[500, 530], bg_type=\"powerlaw\")\n",
    "\n",
    "# im_SI_bgsub = p.bgsub_SI( bg_type=\"powerlaw\")\n",
    "im_SI_bgsub_lba = p.bgsub_SI_lba( bg_type=\"powerlaw\")\n"
   ]
  },
  {
   "cell_type": "code",
   "execution_count": null,
   "metadata": {},
   "outputs": [],
   "source": [
    "# New SI instance with background subtracted SI\n",
    "p_bsub = psi.SI( im_SI_bgsub_lba, hs_ADF.data, es )\n",
    "\n",
    "# SI viewer with energy integration\n",
    "p_bsub.PSI_integrator( )"
   ]
  },
  {
   "cell_type": "code",
   "execution_count": null,
   "metadata": {},
   "outputs": [],
   "source": [
    "# Run Background subtraction from energy window chosen in GUI\n",
    "# Alternatively you may specify bsub range\n",
    "# e.g im_int = p_bsub.integrate_SI(  e_int=[550, 580] )\n",
    "\n",
    "im_int = p_bsub.integrate_SI( )"
   ]
  }
 ],
 "metadata": {
  "kernelspec": {
   "display_name": "testenv",
   "language": "python",
   "name": "python3"
  },
  "language_info": {
   "codemirror_mode": {
    "name": "ipython",
    "version": 3
   },
   "file_extension": ".py",
   "mimetype": "text/x-python",
   "name": "python",
   "nbconvert_exporter": "python",
   "pygments_lexer": "ipython3",
   "version": "3.10.9"
  }
 },
 "nbformat": 4,
 "nbformat_minor": 2
}
