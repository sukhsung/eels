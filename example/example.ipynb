{
 "cells": [
  {
   "cell_type": "code",
   "execution_count": null,
   "metadata": {},
   "outputs": [],
   "source": [
    "from spectrum_image import EELS\n",
    "from spectrum_image.EELS.EELS_edge import EELS_edge\n",
    "import os\n",
    "import hyperspy.api as hs\n",
    "import matplotlib.pyplot as plt\n",
    "import numpy as np\n",
    "%matplotlib widget\n",
    "\n",
    "%load_ext autoreload\n",
    "%autoreload 2"
   ]
  },
  {
   "cell_type": "code",
   "execution_count": null,
   "metadata": {},
   "outputs": [],
   "source": [
    "## File and microscope parameters\n",
    "path = \"\"\n",
    "number = \"8\" # data set number\n",
    "\n",
    "path += \"SI data ({})/\".format( number ) #file path for directory with data files\n",
    "print(os.listdir(path))\n",
    "\n",
    "SIdm = \"STEM SI.dm4\" # data file name\n",
    "darkdm3 = \"\" # dark reference file name, leave as empty string if none"
   ]
  },
  {
   "cell_type": "code",
   "execution_count": null,
   "metadata": {},
   "outputs": [],
   "source": [
    "SI_file=hs.load(path+SIdm)\n",
    "hs_survey = SI_file[0]\n",
    "hs_ADF = SI_file[1]\n",
    "hs_LL = SI_file[2]\n",
    "hs_HL = SI_file[3]"
   ]
  },
  {
   "cell_type": "code",
   "execution_count": null,
   "metadata": {},
   "outputs": [],
   "source": [
    "survey = hs_survey.data\n",
    "adf = hs_ADF.data"
   ]
  },
  {
   "cell_type": "code",
   "execution_count": null,
   "metadata": {},
   "outputs": [],
   "source": [
    "es_LL, si_LL, pxscale, disp, params = EELS.EELS_util.get_hyperspy_data( hs_LL )\n",
    "es_HL, si_HL, pxscale, disp, params = EELS.EELS_util.get_hyperspy_data( hs_HL )"
   ]
  },
  {
   "cell_type": "code",
   "execution_count": null,
   "metadata": {},
   "outputs": [],
   "source": [
    "### Start a fit browser\n",
    "p = EELS.SpectrumImage( si_HL, es_HL, adf=adf )\n",
    "p.fitbrowser()"
   ]
  },
  {
   "cell_type": "code",
   "execution_count": null,
   "metadata": {},
   "outputs": [],
   "source": [
    "## Background Subtraction and Integration Window are stored in \"Edge\" Object\n",
    "print( p.edge )"
   ]
  },
  {
   "cell_type": "code",
   "execution_count": null,
   "metadata": {},
   "outputs": [],
   "source": [
    "## Alternatively, you can pre-define an edge\n",
    "edge_O = EELS_edge( label=\"O-K\", e_bsub=(467,521), e_int=(526, 565) )\n",
    "p.fitbrowser( edge=edge_O)"
   ]
  },
  {
   "cell_type": "code",
   "execution_count": null,
   "metadata": {},
   "outputs": [],
   "source": [
    "# Integrated inelastic image is stored in p.im_inel\n",
    "fig, ax = plt.subplots(1); ax.matshow( p.im_inel )"
   ]
  },
  {
   "cell_type": "code",
   "execution_count": null,
   "metadata": {},
   "outputs": [],
   "source": [
    "# Background subtrated SI is stored in p.si_bsub\n",
    "p_bsub = EELS.SpectrumImage( p.si_bsub, p.eaxis, p.adf )\n",
    "p_bsub.fitbrowser()"
   ]
  },
  {
   "cell_type": "markdown",
   "metadata": {},
   "source": [
    "# Line Profile"
   ]
  },
  {
   "cell_type": "code",
   "execution_count": null,
   "metadata": {},
   "outputs": [],
   "source": [
    "# Make Fake Lineprofile Data\n",
    "lp_HL = np.mean(si_HL,0)\n",
    "lp_adf = np.mean(adf,0)\n",
    "p = EELS.LineProfile( lp_HL, es_HL, lp_adf )\n",
    "p.fitbrowser()"
   ]
  },
  {
   "cell_type": "code",
   "execution_count": null,
   "metadata": {},
   "outputs": [],
   "source": []
  }
 ],
 "metadata": {
  "kernelspec": {
   "display_name": "Python 3",
   "language": "python",
   "name": "python3"
  },
  "language_info": {
   "codemirror_mode": {
    "name": "ipython",
    "version": 3
   },
   "file_extension": ".py",
   "mimetype": "text/x-python",
   "name": "python",
   "nbconvert_exporter": "python",
   "pygments_lexer": "ipython3",
   "version": "3.10.9"
  }
 },
 "nbformat": 4,
 "nbformat_minor": 2
}
