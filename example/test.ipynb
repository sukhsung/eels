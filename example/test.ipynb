{
 "cells": [
  {
   "cell_type": "code",
   "execution_count": 1,
   "metadata": {},
   "outputs": [],
   "source": [
    "import hyperspy.api as hs\n",
    "from spectrum_image import SI\n",
    "from spectrum_image import SI_util\n",
    "import numpy as np\n",
    "from tifffile import imwrite\n",
    "\n",
    "%matplotlib widget"
   ]
  },
  {
   "cell_type": "code",
   "execution_count": 1,
   "metadata": {},
   "outputs": [],
   "source": [
    "from spectrum_image.SI import edge"
   ]
  },
  {
   "cell_type": "code",
   "execution_count": 3,
   "metadata": {},
   "outputs": [
    {
     "name": "stdout",
     "output_type": "stream",
     "text": [
      "[Edge O-K: Background (500-532) Integration (600-632), Edge F-K: Background (700-732)]\n"
     ]
    }
   ],
   "source": [
    "m1 = edge( 'O-K', e_bsub= (500,532), e_int=(600,632))\n",
    "m2 = edge( 'F-K', e_bsub= (700,732))\n",
    "\n",
    "print( [m1,m2] )"
   ]
  },
  {
   "cell_type": "code",
   "execution_count": null,
   "metadata": {},
   "outputs": [],
   "source": [
    "## File and microscope parameters\n",
    "path = \"path/to/data\"\n",
    "SIdm = \"STEM SI.dm4\""
   ]
  },
  {
   "cell_type": "code",
   "execution_count": null,
   "metadata": {},
   "outputs": [],
   "source": [
    "SI_file=hs.load(path+SIdm)\n",
    "print(SI_file)\n",
    "hs_survey = SI_file[0]\n",
    "hs_ADF = SI_file[1]\n",
    "hs_LL = SI_file[2]\n",
    "hs_HL = SI_file[3]"
   ]
  },
  {
   "cell_type": "code",
   "execution_count": null,
   "metadata": {},
   "outputs": [],
   "source": [
    "rawE, rawSI, pxscale, disp, params = SI_util.get_hyperspy_data( hs_HL )\n",
    "\n",
    "si = rawSI\n",
    "es = rawE\n",
    "adf = hs_ADF.data"
   ]
  },
  {
   "cell_type": "code",
   "execution_count": null,
   "metadata": {},
   "outputs": [],
   "source": [
    "# Pre-process SI as necessary\n",
    "\n",
    "## CROP SI\n",
    "# si = si[0:90,:,:]\n",
    "# ADF = hs_ADF.data[0:90,:]\n",
    "\n",
    "## Replace outliers far from median ( value > median+multiplier*std ) with median\n",
    "# si = SI_util.remove_outlier( si, threshold_multiplier=1 )\n",
    "\n",
    "## Shear SI and ADF by some angle\n",
    "# si_shear,adf_shear = SI_util.shear_x_SI( si, adf, 50 )"
   ]
  },
  {
   "cell_type": "code",
   "execution_count": null,
   "metadata": {},
   "outputs": [],
   "source": [
    "# Create SI instance\n",
    "p = SI.SI( si, adf, es )\n",
    "\n",
    "## Bin SI along energy axis\n",
    "# p.bin_energy_x2()\n",
    "## Bin SI along spatial axis\n",
    "# p.bin_xy_x2()\n",
    "# p.bin_x_x2()\n",
    "# p.bin_y_x2()"
   ]
  },
  {
   "cell_type": "code",
   "execution_count": null,
   "metadata": {},
   "outputs": [],
   "source": [
    "# SI viewer with background subtraction\n",
    "# bg_type: 'powerlaw', 'LCPL', None\n",
    "# LCPL doesn't work too well at the moment\n",
    "p.SI_viewer( bg_type='powerlaw')"
   ]
  },
  {
   "cell_type": "code",
   "execution_count": null,
   "metadata": {},
   "outputs": [],
   "source": [
    "# Run Background subtraction from energy window chosen in GUI\n",
    "# Alternatively you may specify bsub range\n",
    "# e.g SI_bgsub, e_bsub = p.bgsub_SI_lba(  e_bsub=[500, 530], bg_type=\"powerlaw\")\n",
    "\n",
    "SI_bgsub, e_bsub = p.bgsub_SI( bg_type=\"powerlaw\")\n",
    "\n",
    "# You can perform local background averaging if desired\n",
    "# SI_bgsub_lba, e_bsub = p.bgsub_SI_lba( bg_type=\"powerlaw\", gfwhm=5)\n",
    "# e.g SI_bgsub_lba, e_bsub = p.bgsub_SI_lba(  e_bsub=[500, 530], bg_type=\"powerlaw\")\n"
   ]
  },
  {
   "cell_type": "code",
   "execution_count": null,
   "metadata": {},
   "outputs": [],
   "source": [
    "# New SI instance with background subtracted SI\n",
    "\n",
    "p_bsub = SI.SI( SI_bgsub, p.ADF, p.es )\n",
    "p_bsub.SI_integrator( )\n",
    "\n",
    "# SI viewer with energy integration\n",
    "p_bsub.SI_integrator( )"
   ]
  },
  {
   "cell_type": "code",
   "execution_count": null,
   "metadata": {},
   "outputs": [],
   "source": [
    "# Run Background subtraction from energy window chosen in GUI\n",
    "# Alternatively you may specify bsub range\n",
    "# e.g im_int = p_bsub.integrate_SI(  e_int=[550, 580] )\n",
    "\n",
    "im_int, e_int = p_bsub.integrate_SI()\n",
    "fname = \"bsub_({:.3f}-{:.3f})_int_({:.3f}-{:.3f}).tif\".format( *e_bsub, *e_int )\n",
    "imwrite( path+fname, im_int)\n",
    "print(fname)"
   ]
  }
 ],
 "metadata": {
  "kernelspec": {
   "display_name": "testenv",
   "language": "python",
   "name": "python3"
  },
  "language_info": {
   "codemirror_mode": {
    "name": "ipython",
    "version": 3
   },
   "file_extension": ".py",
   "mimetype": "text/x-python",
   "name": "python",
   "nbconvert_exporter": "python",
   "pygments_lexer": "ipython3",
   "version": "3.10.9"
  }
 },
 "nbformat": 4,
 "nbformat_minor": 2
}
